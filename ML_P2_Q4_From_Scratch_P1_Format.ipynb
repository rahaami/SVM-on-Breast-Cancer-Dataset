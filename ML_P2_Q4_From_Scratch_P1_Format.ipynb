{
  "nbformat": 4,
  "nbformat_minor": 0,
  "metadata": {
    "colab": {
      "provenance": []
    },
    "kernelspec": {
      "name": "python3",
      "display_name": "Python 3"
    },
    "language_info": {
      "name": "python"
    }
  },
  "cells": [
    {
      "cell_type": "markdown",
      "source": [
        "Machine Learning - Project 2 - Question No 4\n",
        "SVM from scratch \n",
        "\n",
        "@ Raha Amirian\n",
        "\n",
        "Programming language: Python \n",
        "\n",
        "Dataset: Breast cancer Wisconsin\n"
      ],
      "metadata": {
        "id": "yUTzzzZAm1kv"
      }
    },
    {
      "cell_type": "code",
      "execution_count": null,
      "metadata": {
        "colab": {
          "base_uri": "https://localhost:8080/"
        },
        "id": "Hy9IrQOe_fnz",
        "outputId": "555284c5-b540-4d57-adc6-a74d6584450d"
      },
      "outputs": [
        {
          "output_type": "stream",
          "name": "stdout",
          "text": [
            "Accuracy: 0.8947368421052632\n",
            "Wall Clock Time: 5.76 seconds\n"
          ]
        }
      ],
      "source": [
        "# in order to share the actual ”wall-clock” \n",
        "import time\n",
        "start_time = time.time()\n",
        "\n",
        "import numpy as np\n",
        "import pandas as pd\n",
        "from sklearn.model_selection import train_test_split\n",
        "\n",
        "# Load the dataset\n",
        "url = \"https://archive.ics.uci.edu/ml/machine-learning-databases/breast-cancer-wisconsin/wdbc.data\"\n",
        "df = pd.read_csv(url, header=None)\n",
        "\n",
        "# Extract features and target\n",
        "X = df.iloc[:, 2:].values\n",
        "y = df.iloc[:, 1].values\n",
        "\n",
        "# Convert target values to binary\n",
        "y = np.where(y == 'M', -1, 1)\n",
        "\n",
        "# Split the data into training and testing sets\n",
        "X_train, X_test, y_train, y_test = train_test_split(X, y, test_size=0.2, random_state=0)\n",
        "\n",
        "# Define the SVM \n",
        "class SVM:\n",
        "    def __init__(self, learning_rate=0.001, lambda_param=0.01, n_iters=1000):\n",
        "        self.lr = learning_rate\n",
        "        self.lambda_param = lambda_param\n",
        "        self.n_iters = n_iters\n",
        "        self.w = None\n",
        "        self.b = None\n",
        "    \n",
        "    def fit(self, X, y):\n",
        "        n_samples, n_features = X.shape\n",
        "        \n",
        "        # Initialize parameters\n",
        "        self.w = np.zeros(n_features)\n",
        "        self.b = 0\n",
        "        \n",
        "        # Gradient descent\n",
        "        for i in range(self.n_iters):\n",
        "            for j, x_i in enumerate(X):\n",
        "                condition = y[j] * (np.dot(x_i, self.w) - self.b) >= 1\n",
        "                if condition:\n",
        "                    self.w -= self.lr * (2 * self.lambda_param * self.w)\n",
        "                else:\n",
        "                    self.w -= self.lr * (2 * self.lambda_param * self.w - np.dot(x_i, y[j]))\n",
        "                    self.b -= self.lr * y[j]\n",
        "    \n",
        "    def predict(self, X):\n",
        "        linear_output = np.dot(X, self.w) - self.b\n",
        "        return np.sign(linear_output)\n",
        "\n",
        "svm = SVM()\n",
        "\n",
        "\n",
        "# Train the model\n",
        "svm.fit(X_train, y_train)\n",
        "\n",
        "# Make predictions on the testing set\n",
        "y_pred = svm.predict(X_test)\n",
        "\n",
        "\n",
        "# Evaluate the model performance\n",
        "accuracy = np.mean(y_pred == y_test)\n",
        "print(f\"Accuracy: {accuracy}\")\n",
        "\n",
        "\n",
        "end_time = time.time()\n",
        "print(\"Wall Clock Time: {:.2f} seconds\".format(end_time - start_time))"
      ]
    },
    {
      "cell_type": "code",
      "source": [
        "from sklearn.metrics import accuracy_score, precision_score, recall_score, f1_score, confusion_matrix\n",
        "\n",
        "# Compute accuracy\n",
        "accuracy = accuracy_score(y_test, y_pred)\n",
        "\n",
        "# Compute precision\n",
        "precision = precision_score(y_test, y_pred)\n",
        "\n",
        "# Compute recall\n",
        "recall = recall_score(y_test, y_pred)\n",
        "\n",
        "# Compute F1 score\n",
        "f1 = f1_score(y_test, y_pred)\n",
        "\n",
        "# Compute confusion matrix\n",
        "cm = confusion_matrix(y_test, y_pred)\n",
        "\n",
        "print(\"Accuracy:\", accuracy)\n",
        "print(\"Precision:\", precision)\n",
        "print(\"Recall:\", recall)\n",
        "print(\"F1 Score:\", f1)\n",
        "print(\"Confusion Matrix:\\n\", cm)\n"
      ],
      "metadata": {
        "colab": {
          "base_uri": "https://localhost:8080/"
        },
        "id": "jXIRK-h5chp7",
        "outputId": "ecccb9a6-34a1-42bc-9045-db202a8792d9"
      },
      "execution_count": null,
      "outputs": [
        {
          "output_type": "stream",
          "name": "stdout",
          "text": [
            "Accuracy: 0.8947368421052632\n",
            "Precision: 0.9508196721311475\n",
            "Recall: 0.8656716417910447\n",
            "F1 Score: 0.9062499999999999\n",
            "Confusion Matrix:\n",
            " [[44  3]\n",
            " [ 9 58]]\n"
          ]
        }
      ]
    },
    {
      "cell_type": "code",
      "source": [
        "import matplotlib.pyplot as plt\n",
        "\n",
        "# Plot histograms of mean radius and mean texture\n",
        "plt.figure(figsize=(10, 4))\n",
        "plt.subplot(1, 2, 1)\n",
        "plt.hist(X[:, 0], bins=20)\n",
        "plt.xlabel(\"Mean Radius\")\n",
        "plt.ylabel(\"Count\")\n",
        "plt.subplot(1, 2, 2)\n",
        "plt.hist(X[:, 1], bins=20)\n",
        "plt.xlabel(\"Mean Texture\")\n",
        "plt.ylabel(\"Count\")\n",
        "plt.tight_layout()\n",
        "plt.show()\n"
      ],
      "metadata": {
        "colab": {
          "base_uri": "https://localhost:8080/",
          "height": 297
        },
        "id": "rEYqgT7fc6zl",
        "outputId": "2dc491f7-52aa-49fa-bddd-1cc066a2e30c"
      },
      "execution_count": null,
      "outputs": [
        {
          "output_type": "display_data",
          "data": {
            "text/plain": [
              "<Figure size 720x288 with 2 Axes>"
            ],
            "image/png": "[encoded data removed]"
          },
          "metadata": {
            "needs_background": "light"
          }
        }
      ]
    },
    {
      "cell_type": "code",
      "source": [
        "from sklearn.metrics import confusion_matrix\n",
        "\n",
        "# Compute confusion matrix\n",
        "cm = confusion_matrix(y_test, y_pred)\n",
        "\n",
        "# Extract true positives, true negatives, false positives, and false negatives\n",
        "tn, fp, fn, tp = cm.ravel()\n",
        "\n",
        "# Print the results in a table\n",
        "print(\"Confusion Matrix:\")\n",
        "print(\"===================\")\n",
        "print(f\"True Negatives:  {tn:4d}    False Positives: {fp:4d}\")\n",
        "print(f\"False Negatives: {fn:4d}    True Positives:  {tp:4d}\")\n"
      ],
      "metadata": {
        "colab": {
          "base_uri": "https://localhost:8080/"
        },
        "id": "gL2yr_Dpc99q",
        "outputId": "8a406052-cbd6-4ac6-da92-7276f1c8944d"
      },
      "execution_count": null,
      "outputs": [
        {
          "output_type": "stream",
          "name": "stdout",
          "text": [
            "Confusion Matrix:\n",
            "===================\n",
            "True Negatives:    44    False Positives:    3\n",
            "False Negatives:    9    True Positives:    58\n"
          ]
        }
      ]
    }
  ]
}